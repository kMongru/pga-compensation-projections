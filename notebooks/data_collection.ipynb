{
 "cells": [
  {
   "cell_type": "markdown",
   "metadata": {},
   "source": [
    "#### Data Collection\n",
    "\n",
    "Started looking at the following sources:\n",
    "- https://www.owgr.com/\n",
    "- https://www.pgatour.com/stats/\n",
    "- https://datagolf.com/\n",
    "\n",
    "The only site that robot.txt allowed data scraping was pgatour.com, so that will be the primary resource for this analysis. I also found the api that pgatour.com was using to collect data but scaping from here directly was disallowed.\n",
    "\n",
    "Plan for collecting data\n",
    "\n",
    "1) Select six North American events\n",
    "2) Find appropriate features that affect scoring average\n",
    "3) Determine a base URl to loop through and scrap data\n",
    "\n",
    "\n",
    "NOTES\n",
    "- Each stat is a 4 day-average\n",
    "- Only players who make it to the final round (4 rounds) are considered\n",
    "\n"
   ]
  },
  {
   "cell_type": "code",
   "execution_count": 2,
   "metadata": {},
   "outputs": [],
   "source": [
    "#IMPORTS\n",
    "import pandas as pd\n",
    "import requests\n",
    "import time\n"
   ]
  },
  {
   "cell_type": "markdown",
   "metadata": {},
   "source": [
    "Let's define a helper function to build our csv files based on our stat code and title. It will be important to rate limit our requests to not overwhelm the servers."
   ]
  },
  {
   "cell_type": "code",
   "execution_count": 3,
   "metadata": {},
   "outputs": [],
   "source": [
    "def data_frame_builder(title: str, statCd: int) -> pd.DataFrame:\n",
    "    allDfs = []\n",
    "    \n",
    "    tournamentMap =  {\n",
    "    \"U.S. Open\" : '026',\n",
    "    \"The Memorial Tournament\": '023',\n",
    "    \"RBC Canadian Open\": '032',\n",
    "    \"AT&T Bryon Nelson\": '019',\n",
    "    \"Travelers Championship\": '034',\n",
    "    \"Wells Fargo Championship\": '480'\n",
    "    }\n",
    "    \n",
    "    for event, eventCd in tournamentMap.items():\n",
    "        #rate limit our requests\n",
    "        time.sleep(2)\n",
    "        \n",
    "        #build the url and create a get request for the html\n",
    "        url = f'https://www.pgatour.com/stats/stat.{statCd}.y2022.eon.t{eventCd}.html'\n",
    "        rs = requests.get(url)\n",
    "        \n",
    "        #use panadas to read <table> tags and generate a data frame (second table on the page is desired)\n",
    "        scrapedDfs = pd.read_html(rs.text)\n",
    "        currDf = scrapedDfs[1]\n",
    "        \n",
    "        #add event column for multi indexing\n",
    "        currDf['EVENT'] = event\n",
    "        \n",
    "        #append df to array\n",
    "        allDfs.append(currDf)\n",
    "    \n",
    "    completedDf = pd.concat(allDfs)\n",
    "    \n",
    "    #clean the NaN data\n",
    "    cleanedDf = completedDf.dropna(axis=1, how='all')\n",
    "    cleanedDf = cleanedDf.drop(cleanedDf.columns[0], axis = 1)\n",
    "    \n",
    "    return cleanedDf"
   ]
  },
  {
   "cell_type": "markdown",
   "metadata": {},
   "source": [
    "Collected the following data frames from 2022 Season, please refer each column definition below:\n",
    "\n",
    "Scoring Average: Average score of a player over 4 rounds.\n",
    "\n",
    "Driving Distance: The average distance off the tee, excluding par threes.\n",
    "\n",
    "Driving Accuracy: The percentage of time a tee shot comes to rest in the fairway (regardless of club).\n",
    "\n",
    "Greens in Regulation: The percent of time a player was able to hit the green in regulation (greens hit in regulation/holes played). Note: A green is considered hit in regulation if any portion of the ball is touching the putting surface after the GIR stroke has been taken. (The GIR stroke is determined by subtracting 2 from par (1st stroke on a par 3, 2nd on a par 4, 3rd on a par 5))\n",
    "\n",
    "Scambling: The percent of time a player misses the green in regulation, but still makes par or better.\n",
    "\n",
    "Sand Saves: The percent of time a player was able to get 'up and down' once in a greenside sand bunker (regardless of score). Note: 'Up and down' indicates it took the player 2 shots or less to put the ball in the hole from that point.\n",
    "\n",
    "Putts Per Round: The total number of putts in a round."
   ]
  },
  {
   "cell_type": "code",
   "execution_count": 18,
   "metadata": {},
   "outputs": [],
   "source": [
    "statsMap = {\n",
    "  \"scoring_average\" : 120,\n",
    "  \"driving_distance\" : 101,\n",
    "  \"driving_accuracy\" : 102,\n",
    "  \"greens_in_regulation\":103,\n",
    "  \"proximity_to_the_hole\": 331,\n",
    "  \"scrambling\": 130,\n",
    "  \"sand_saves\": 111,\n",
    "  \"putts_per_round\" : 119\n",
    "}\n",
    "\n",
    "#loop through the map and create new csv\n",
    "for title, val in statsMap.items():\n",
    "    newDf = data_frame_builder(title, val)\n",
    "    newDf.to_csv(f\"../data/raw_data/{title}.csv\")"
   ]
  }
 ],
 "metadata": {
  "kernelspec": {
   "display_name": "Python 3.9.12 ('base')",
   "language": "python",
   "name": "python3"
  },
  "language_info": {
   "codemirror_mode": {
    "name": "ipython",
    "version": 3
   },
   "file_extension": ".py",
   "mimetype": "text/x-python",
   "name": "python",
   "nbconvert_exporter": "python",
   "pygments_lexer": "ipython3",
   "version": "3.9.12"
  },
  "orig_nbformat": 4,
  "vscode": {
   "interpreter": {
    "hash": "1f6e682205f821ecdce1477ac3157e1a99470272967d45f05981f45230916d50"
   }
  }
 },
 "nbformat": 4,
 "nbformat_minor": 2
}
