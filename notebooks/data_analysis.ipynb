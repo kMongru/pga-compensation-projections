{
 "cells": [
  {
   "cell_type": "code",
   "execution_count": 1,
   "metadata": {},
   "outputs": [],
   "source": [
    "#Imports\n",
    "import numpy as np\n",
    "import matplotlib.pyplot as plt\n",
    "import pandas as pd\n",
    "import seaborn as sns\n",
    "from sklearn.model_selection import train_test_split"
   ]
  },
  {
   "cell_type": "code",
   "execution_count": 2,
   "metadata": {},
   "outputs": [],
   "source": [
    "def multi_indexing(df: pd.DataFrame, stats: dict[str, str]) -> pd.DataFrame:\n",
    "    # set the multi index based on event & player name\n",
    "    multiIndexDf = df.set_index(['EVENT', 'PLAYER NAME'], inplace=False)\n",
    "    \n",
    "    rtnDf = multiIndexDf[[*stats.keys()]]\n",
    "    \n",
    "    return rtnDf.rename(columns = stats)"
   ]
  },
  {
   "cell_type": "code",
   "execution_count": 3,
   "metadata": {},
   "outputs": [],
   "source": [
    "csvs = [\"driving_distance\", \"driving_accuracy\", \"greens_in_regulation\", \"proximity_to_the_hole\",\"scrambling\",\"sand_saves\",\"putts_per_round\"]\n",
    "\n",
    "statsMap = {\n",
    "  \"driving_distance\" : {\n",
    "    'AVG.' : 'Driving Distance',\n",
    "    'TOTAL DRIVES' : 'Total Drives'\n",
    "  },\n",
    "  \"driving_accuracy\": {\n",
    "    '%' : 'Fairways Hit (%)',\n",
    "    'FAIRWAYS HIT':  'Fairsways Hit',\n",
    "    'POSSIBLE FAIRWAYS' : 'Possible Fairways'\n",
    "  },\n",
    "  \"greens_in_regulation\": {\n",
    "    '%' : 'Greens Hit (%)'\n",
    "  },\n",
    "     \"proximity_to_the_hole\": {\n",
    "    'AVG' : 'Hole Proximity',\n",
    "    'GIR RANK': 'GIR Rank'\n",
    "  },\n",
    "    \"putts_per_round\": {\n",
    "    'AVG' : 'Putts'\n",
    "  },\n",
    "  \"sand_saves\": {\n",
    "    '%' : 'Sand Saves (%)',\n",
    "    '# SAVES': 'Sand Saves',\n",
    "    '# BUNKERS' : 'Bunkers'\n",
    "  },\n",
    "  \"scrambling\" : {\n",
    "    '%' : 'Scrambling (%)',\n",
    "    'PAR OR BETTER' : 'Scarmbling',\n",
    "    'MISSED GIR' : 'Missed GIR'\n",
    "  },\n",
    "}"
   ]
  },
  {
   "cell_type": "markdown",
   "metadata": {},
   "source": [
    "IMPORTANT NOTES\n",
    "\n",
    "- each stat is a 4 day average\n",
    "- only players who make it to the final round (4 rounds) are considered"
   ]
  },
  {
   "cell_type": "code",
   "execution_count": 4,
   "metadata": {},
   "outputs": [
    {
     "data": {
      "text/html": [
       "<div>\n",
       "<style scoped>\n",
       "    .dataframe tbody tr th:only-of-type {\n",
       "        vertical-align: middle;\n",
       "    }\n",
       "\n",
       "    .dataframe tbody tr th {\n",
       "        vertical-align: top;\n",
       "    }\n",
       "\n",
       "    .dataframe thead th {\n",
       "        text-align: right;\n",
       "    }\n",
       "</style>\n",
       "<table border=\"1\" class=\"dataframe\">\n",
       "  <thead>\n",
       "    <tr style=\"text-align: right;\">\n",
       "      <th></th>\n",
       "      <th></th>\n",
       "      <th>Score</th>\n",
       "      <th>Driving Distance</th>\n",
       "      <th>Total Drives</th>\n",
       "      <th>Fairways Hit (%)</th>\n",
       "      <th>Fairsways Hit</th>\n",
       "      <th>Possible Fairways</th>\n",
       "      <th>Greens Hit (%)</th>\n",
       "      <th>Hole Proximity</th>\n",
       "      <th>GIR Rank</th>\n",
       "      <th>Scrambling (%)</th>\n",
       "      <th>Scarmbling</th>\n",
       "      <th>Missed GIR</th>\n",
       "      <th>Sand Saves (%)</th>\n",
       "      <th>Sand Saves</th>\n",
       "      <th>Bunkers</th>\n",
       "      <th>Putts</th>\n",
       "    </tr>\n",
       "    <tr>\n",
       "      <th>EVENT</th>\n",
       "      <th>PLAYER NAME</th>\n",
       "      <th></th>\n",
       "      <th></th>\n",
       "      <th></th>\n",
       "      <th></th>\n",
       "      <th></th>\n",
       "      <th></th>\n",
       "      <th></th>\n",
       "      <th></th>\n",
       "      <th></th>\n",
       "      <th></th>\n",
       "      <th></th>\n",
       "      <th></th>\n",
       "      <th></th>\n",
       "      <th></th>\n",
       "      <th></th>\n",
       "      <th></th>\n",
       "    </tr>\n",
       "  </thead>\n",
       "  <tbody>\n",
       "    <tr>\n",
       "      <th rowspan=\"5\" valign=\"top\">U.S. Open</th>\n",
       "      <th>Matt Fitzpatrick</th>\n",
       "      <td>65.903</td>\n",
       "      <td>310.5</td>\n",
       "      <td>8</td>\n",
       "      <td>69.64</td>\n",
       "      <td>39</td>\n",
       "      <td>56</td>\n",
       "      <td>72.22</td>\n",
       "      <td>35' 10\"</td>\n",
       "      <td>6 Under</td>\n",
       "      <td>60.00</td>\n",
       "      <td>12</td>\n",
       "      <td>20</td>\n",
       "      <td>42.86</td>\n",
       "      <td>3</td>\n",
       "      <td>7</td>\n",
       "      <td>30.50</td>\n",
       "    </tr>\n",
       "    <tr>\n",
       "      <th>Scottie Scheffler</th>\n",
       "      <td>66.153</td>\n",
       "      <td>313.3</td>\n",
       "      <td>8</td>\n",
       "      <td>67.86</td>\n",
       "      <td>38</td>\n",
       "      <td>56</td>\n",
       "      <td>65.28</td>\n",
       "      <td>33' 9\"</td>\n",
       "      <td>5 Under</td>\n",
       "      <td>60.00</td>\n",
       "      <td>15</td>\n",
       "      <td>25</td>\n",
       "      <td>50.00</td>\n",
       "      <td>3</td>\n",
       "      <td>6</td>\n",
       "      <td>27.75</td>\n",
       "    </tr>\n",
       "    <tr>\n",
       "      <th>Will Zalatoris</th>\n",
       "      <td>66.153</td>\n",
       "      <td>306.3</td>\n",
       "      <td>8</td>\n",
       "      <td>55.36</td>\n",
       "      <td>31</td>\n",
       "      <td>56</td>\n",
       "      <td>65.28</td>\n",
       "      <td>28' 3\"</td>\n",
       "      <td>5 Under</td>\n",
       "      <td>52.00</td>\n",
       "      <td>13</td>\n",
       "      <td>25</td>\n",
       "      <td>60.00</td>\n",
       "      <td>3</td>\n",
       "      <td>5</td>\n",
       "      <td>28.25</td>\n",
       "    </tr>\n",
       "    <tr>\n",
       "      <th>Hideki Matsuyama</th>\n",
       "      <td>66.653</td>\n",
       "      <td>295.9</td>\n",
       "      <td>8</td>\n",
       "      <td>51.79</td>\n",
       "      <td>29</td>\n",
       "      <td>56</td>\n",
       "      <td>69.44</td>\n",
       "      <td>33' 7\"</td>\n",
       "      <td>3 Under</td>\n",
       "      <td>72.73</td>\n",
       "      <td>16</td>\n",
       "      <td>22</td>\n",
       "      <td>42.86</td>\n",
       "      <td>3</td>\n",
       "      <td>7</td>\n",
       "      <td>29.25</td>\n",
       "    </tr>\n",
       "    <tr>\n",
       "      <th>Rory McIlroy</th>\n",
       "      <td>66.903</td>\n",
       "      <td>300.9</td>\n",
       "      <td>8</td>\n",
       "      <td>55.36</td>\n",
       "      <td>31</td>\n",
       "      <td>56</td>\n",
       "      <td>66.67</td>\n",
       "      <td>35' 2\"</td>\n",
       "      <td>2 Under</td>\n",
       "      <td>54.17</td>\n",
       "      <td>13</td>\n",
       "      <td>24</td>\n",
       "      <td>100.00</td>\n",
       "      <td>5</td>\n",
       "      <td>5</td>\n",
       "      <td>29.00</td>\n",
       "    </tr>\n",
       "  </tbody>\n",
       "</table>\n",
       "</div>"
      ],
      "text/plain": [
       "                              Score  Driving Distance  Total Drives  \\\n",
       "EVENT     PLAYER NAME                                                 \n",
       "U.S. Open Matt Fitzpatrick   65.903             310.5             8   \n",
       "          Scottie Scheffler  66.153             313.3             8   \n",
       "          Will Zalatoris     66.153             306.3             8   \n",
       "          Hideki Matsuyama   66.653             295.9             8   \n",
       "          Rory McIlroy       66.903             300.9             8   \n",
       "\n",
       "                             Fairways Hit (%)  Fairsways Hit  \\\n",
       "EVENT     PLAYER NAME                                          \n",
       "U.S. Open Matt Fitzpatrick              69.64             39   \n",
       "          Scottie Scheffler             67.86             38   \n",
       "          Will Zalatoris                55.36             31   \n",
       "          Hideki Matsuyama              51.79             29   \n",
       "          Rory McIlroy                  55.36             31   \n",
       "\n",
       "                             Possible Fairways  Greens Hit (%) Hole Proximity  \\\n",
       "EVENT     PLAYER NAME                                                           \n",
       "U.S. Open Matt Fitzpatrick                  56           72.22        35' 10\"   \n",
       "          Scottie Scheffler                 56           65.28         33' 9\"   \n",
       "          Will Zalatoris                    56           65.28         28' 3\"   \n",
       "          Hideki Matsuyama                  56           69.44         33' 7\"   \n",
       "          Rory McIlroy                      56           66.67         35' 2\"   \n",
       "\n",
       "                            GIR Rank  Scrambling (%)  Scarmbling  Missed GIR  \\\n",
       "EVENT     PLAYER NAME                                                          \n",
       "U.S. Open Matt Fitzpatrick   6 Under           60.00          12          20   \n",
       "          Scottie Scheffler  5 Under           60.00          15          25   \n",
       "          Will Zalatoris     5 Under           52.00          13          25   \n",
       "          Hideki Matsuyama   3 Under           72.73          16          22   \n",
       "          Rory McIlroy       2 Under           54.17          13          24   \n",
       "\n",
       "                             Sand Saves (%)  Sand Saves  Bunkers  Putts  \n",
       "EVENT     PLAYER NAME                                                    \n",
       "U.S. Open Matt Fitzpatrick            42.86           3        7  30.50  \n",
       "          Scottie Scheffler           50.00           3        6  27.75  \n",
       "          Will Zalatoris              60.00           3        5  28.25  \n",
       "          Hideki Matsuyama            42.86           3        7  29.25  \n",
       "          Rory McIlroy               100.00           5        5  29.00  "
      ]
     },
     "execution_count": 4,
     "metadata": {},
     "output_type": "execute_result"
    }
   ],
   "source": [
    "# set up inital scoring df\n",
    "scoringDf = pd.read_csv('../data/raw_data/scoring_average.csv')\n",
    "aggratedData = multi_indexing(scoringDf, {'AVG': 'Score'})\n",
    "\n",
    "for file in csvs:\n",
    "    currDf = pd.read_csv(f'../data/raw_data/{file}.csv')\n",
    "    currDict = statsMap[file]\n",
    "    \n",
    "    cleanedDf = multi_indexing(currDf, currDict)\n",
    "    aggratedData = pd.merge(aggratedData, cleanedDf, on=['EVENT', 'PLAYER NAME'])\n",
    "\n",
    "aggratedData.head()"
   ]
  },
  {
   "cell_type": "markdown",
   "metadata": {},
   "source": [
    "Okay now let's visualize our data to better understand the underlying nature to properly choose our analysis tool."
   ]
  },
  {
   "cell_type": "code",
   "execution_count": 5,
   "metadata": {},
   "outputs": [],
   "source": [
    "def print_hist(df: pd.DataFrame):\n",
    "    for i in df.columns:\n",
    "        plt.hist(df[i], 20)\n",
    "        plt.title(i)\n",
    "        plt.show()"
   ]
  },
  {
   "cell_type": "code",
   "execution_count": 6,
   "metadata": {},
   "outputs": [
    {
     "name": "stderr",
     "output_type": "stream",
     "text": [
      "C:\\Users\\kmong\\AppData\\Local\\Temp\\ipykernel_6288\\1987397415.py:12: SettingWithCopyWarning: \n",
      "A value is trying to be set on a copy of a slice from a DataFrame.\n",
      "Try using .loc[row_indexer,col_indexer] = value instead\n",
      "\n",
      "See the caveats in the documentation: https://pandas.pydata.org/pandas-docs/stable/user_guide/indexing.html#returning-a-view-versus-a-copy\n",
      "  subset['Hole Proximity'] = subset['Hole Proximity'].apply(lambda x: format_feet(x))\n"
     ]
    },
    {
     "data": {
      "image/png": "[encoded data removed]",
      "text/plain": [
       "<Figure size 432x288 with 1 Axes>"
      ]
     },
     "metadata": {
      "needs_background": "light"
     },
     "output_type": "display_data"
    },
    {
     "data": {
      "image/png": "[encoded data removed]",
      "text/plain": [
       "<Figure size 432x288 with 1 Axes>"
      ]
     },
     "metadata": {
      "needs_background": "light"
     },
     "output_type": "display_data"
    },
    {
     "data": {
      "image/png": "[encoded data removed]",
      "text/plain": [
       "<Figure size 432x288 with 1 Axes>"
      ]
     },
     "metadata": {
      "needs_background": "light"
     },
     "output_type": "display_data"
    },
    {
     "data": {
      "image/png": "[encoded data removed]",
      "text/plain": [
       "<Figure size 432x288 with 1 Axes>"
      ]
     },
     "metadata": {
      "needs_background": "light"
     },
     "output_type": "display_data"
    },
    {
     "data": {
      "image/png": "[encoded data removed]",
      "text/plain": [
       "<Figure size 432x288 with 1 Axes>"
      ]
     },
     "metadata": {
      "needs_background": "light"
     },
     "output_type": "display_data"
    },
    {
     "data": {
      "image/png": "[encoded data removed]",
      "text/plain": [
       "<Figure size 432x288 with 1 Axes>"
      ]
     },
     "metadata": {
      "needs_background": "light"
     },
     "output_type": "display_data"
    },
    {
     "data": {
      "image/png": "[encoded data removed]",
      "text/plain": [
       "<Figure size 432x288 with 1 Axes>"
      ]
     },
     "metadata": {
      "needs_background": "light"
     },
     "output_type": "display_data"
    },
    {
     "data": {
      "image/png": "[encoded data removed]",
      "text/plain": [
       "<Figure size 432x288 with 1 Axes>"
      ]
     },
     "metadata": {
      "needs_background": "light"
     },
     "output_type": "display_data"
    }
   ],
   "source": [
    "#Drop the histograms that are not normally distributed and use only % to leverge CLT in my display\n",
    "subset = aggratedData[['Score','Driving Distance', 'Fairways Hit (%)', 'Greens Hit (%)', 'Hole Proximity', 'Scrambling (%)','Sand Saves (%)', 'Putts' ]]\n",
    "\n",
    "#format the hole proximity to a feet number (XX/' X\")\n",
    "def format_feet(x: str) -> str:\n",
    "    # format 30' 5\"\n",
    "    splitList = x.split(\"' \")\n",
    "    ft = float(splitList[0])\n",
    "    inch = float(splitList[1].replace('\"', ''))\n",
    "    return ft + inch/12\n",
    "\n",
    "subset['Hole Proximity'] = subset['Hole Proximity'].apply(lambda x: format_feet(x))\n",
    "print_hist(subset)"
   ]
  },
  {
   "cell_type": "code",
   "execution_count": 11,
   "metadata": {},
   "outputs": [
    {
     "data": {
      "image/png": "[encoded data removed]",
      "text/plain": [
       "<Figure size 432x288 with 6 Axes>"
      ]
     },
     "metadata": {
      "needs_background": "light"
     },
     "output_type": "display_data"
    }
   ],
   "source": [
    "# understanding each feature's relationship with the dependent variable (score)\n",
    "yAxis = aggratedData['Score']\n",
    "features = [['Driving Distance', 'Fairways Hit (%)', 'Greens Hit (%)'], ['Hole Proximity', 'Scrambling (%)','Sand Saves (%)', 'Putts']]\n",
    "\n",
    "fig, ax = plt.subplots(2,3, sharey=True)\n",
    "num = 0\n",
    "\n",
    "for i in range(len(ax)):\n",
    "    for j in range(len(ax[0])):\n",
    "        ax[i, j].scatter(subset[features[i][j]], yAxis)\n",
    "        ax[i, j].set_xlabel(features[i][j])\n",
    "    \n",
    "ax[0,0].set_ylabel('Score')\n",
    "plt.show()  "
   ]
  },
  {
   "cell_type": "code",
   "execution_count": 32,
   "metadata": {},
   "outputs": [
    {
     "name": "stdout",
     "output_type": "stream",
     "text": [
      "                  Driving Distance  Fairways Hit (%)  Greens Hit (%)  \\\n",
      "Driving Distance          1.000000         -0.409994        0.256419   \n",
      "Fairways Hit (%)         -0.409994          1.000000        0.215172   \n",
      "Greens Hit (%)            0.256419          0.215172        1.000000   \n",
      "Hole Proximity            0.179869         -0.299171       -0.194700   \n",
      "Scrambling (%)            0.129106          0.097118        0.272301   \n",
      "Sand Saves (%)           -0.074188          0.070242        0.086136   \n",
      "Putts                    -0.016764          0.039094        0.323487   \n",
      "\n",
      "                  Hole Proximity  Scrambling (%)  Sand Saves (%)     Putts  \n",
      "Driving Distance        0.179869        0.129106       -0.074188 -0.016764  \n",
      "Fairways Hit (%)       -0.299171        0.097118        0.070242  0.039094  \n",
      "Greens Hit (%)         -0.194700        0.272301        0.086136  0.323487  \n",
      "Hole Proximity          1.000000        0.082099       -0.028865 -0.137540  \n",
      "Scrambling (%)          0.082099        1.000000        0.272014 -0.377625  \n",
      "Sand Saves (%)         -0.028865        0.272014        1.000000 -0.116456  \n",
      "Putts                  -0.137540       -0.377625       -0.116456  1.000000  \n"
     ]
    },
    {
     "data": {
      "text/plain": [
       "<AxesSubplot:>"
      ]
     },
     "execution_count": 32,
     "metadata": {},
     "output_type": "execute_result"
    },
    {
     "data": {
      "image/png": "[encoded data removed]",
      "text/plain": [
       "<Figure size 432x288 with 2 Axes>"
      ]
     },
     "metadata": {
      "needs_background": "light"
     },
     "output_type": "display_data"
    }
   ],
   "source": [
    "#look at the correlation\n",
    "#correlation for independant variables\n",
    "independentSubset = subset.loc[:, subset.columns != 'Score']\n",
    "\n",
    "print(independentSubset.corr())\n",
    "sns.heatmap(independentSubset.corr())"
   ]
  },
  {
   "cell_type": "code",
   "execution_count": 33,
   "metadata": {},
   "outputs": [
    {
     "name": "stderr",
     "output_type": "stream",
     "text": [
      "C:\\Users\\kmong\\AppData\\Local\\Temp\\ipykernel_7272\\977614529.py:9: SettingWithCopyWarning: \n",
      "A value is trying to be set on a copy of a slice from a DataFrame.\n",
      "Try using .loc[row_indexer,col_indexer] = value instead\n",
      "\n",
      "See the caveats in the documentation: https://pandas.pydata.org/pandas-docs/stable/user_guide/indexing.html#returning-a-view-versus-a-copy\n",
      "  df[i] = df[i].apply(lambda x: (x - mean)/stdDev)\n"
     ]
    }
   ],
   "source": [
    "#need to find the guildlines for correlation in linear regression features\n",
    "#since driving distance, hole proximity and putts are not percentages, lets scale the date to increase gradient decent performance\n",
    "#apply z-score averaging to scale data\n",
    "def scaling_helper(df: pd.DataFrame):\n",
    "    for i in df.columns:\n",
    "        stdDev = df[i].std()\n",
    "        mean = df[i].mean()\n",
    "        \n",
    "        df[i] = df[i].apply(lambda x: (x - mean)/stdDev)\n",
    "\n",
    "scaling_helper(independentSubset)"
   ]
  },
  {
   "cell_type": "code",
   "execution_count": 29,
   "metadata": {},
   "outputs": [
    {
     "data": {
      "text/plain": [
       "<matplotlib.collections.PathCollection at 0x26a1a80d820>"
      ]
     },
     "execution_count": 29,
     "metadata": {},
     "output_type": "execute_result"
    },
    {
     "data": {
      "image/png": "[encoded data removed]",
      "text/plain": [
       "<Figure size 432x288 with 1 Axes>"
      ]
     },
     "metadata": {
      "needs_background": "light"
     },
     "output_type": "display_data"
    }
   ],
   "source": [
    "subset['Driving Distance'].describe()\n",
    "plt.scatter(subset['Driving Distance'], aggratedData['Score'])"
   ]
  },
  {
   "cell_type": "code",
   "execution_count": 36,
   "metadata": {},
   "outputs": [
    {
     "name": "stdout",
     "output_type": "stream",
     "text": [
      "X: (338, 7), Y: (338,)\n"
     ]
    }
   ],
   "source": [
    "# I will also need to divide the data set into a 80/20 training/testing in the future\n",
    "train, test = train_test_split(subset, test_size=0.2)\n",
    "\n",
    "# subsetDf = train.loc[:, aggratedData.columns != 'Score']\n",
    "x_train = train.loc[:, train.columns != 'Score']\n",
    "y_train = train['Score']\n",
    "\n",
    "print(f'X: {x_train.shape}, Y: {y_train.shape}')"
   ]
  },
  {
   "cell_type": "markdown",
   "metadata": {},
   "source": [
    "#### Define Linear Function and Cost Function\n",
    "\n",
    "Linear Function is defined as a summation of each feature multipied by a calculated weight and a base value:\n",
    "$$ f_{\\mathbf{w},b}(\\mathbf{x}^{(i)}) = \\mathbf{w} \\cdot \\mathbf{x}^{(i)} + b  \\tag{4} $$ \n",
    "\n",
    "The equation for the cost function with multiple variables $J(\\mathbf{w},b)$ is:\n",
    "$$J(\\mathbf{w},b) = \\frac{1}{2m} \\sum\\limits_{i = 0}^{m-1} (f_{\\mathbf{w},b}(\\mathbf{x}^{(i)}) - y^{(i)})^2 \\tag{3}$$ \n",
    "\n",
    "\n",
    "\n",
    "\n",
    "In contrast to previous labs, $\\mathbf{w}$ and $\\mathbf{x}^{(i)}$ are vectors rather than scalars supporting multiple features."
   ]
  },
  {
   "cell_type": "code",
   "execution_count": null,
   "metadata": {},
   "outputs": [],
   "source": [
    "def compute_cost(data, y, w, b) -> float:\n",
    "    '''\n",
    "    data (ndarray (m,n)): Data, m examples with n features\n",
    "    y (ndarray (m,)) : target values, actual y values\n",
    "    w (ndarray (n,)) : model parameters, weights  \n",
    "    b (scalar)       : model parameter, base value\n",
    "    \n",
    "    '''\n",
    "    # set number of row and initiate cost at 0\n",
    "    m = data[0]\n",
    "    cost = 0.0\n",
    "    \n",
    "    # calculate summation\n",
    "    for i in range(m):\n",
    "        \n",
    "        # calculate linear function\n",
    "        linearFn = np.dot(w, data[i]) + b \n",
    "        # find the difference between predicted and given value\n",
    "        cost += (linearFn - y[i]) ** 2\n",
    "\n",
    "    # account for number of rows (multiple by 2 to account for differiation)\n",
    "    return cost / (2 * m)"
   ]
  },
  {
   "cell_type": "markdown",
   "metadata": {},
   "source": [
    "#### 5 Gradient Descent With Multiple Variables\n",
    "Gradient descent for multiple variables:\n",
    "\n",
    "$$\n",
    "\\begin{align*} \\text{repeat}&\\text{ until convergence:} \\; \\lbrace \\newline\\;\n",
    "& w_j = w_j -  \\alpha \\frac{\\partial J(\\mathbf{w},b)}{\\partial w_j} \\tag{5}  \\; & \\text{for j = 0..n-1}\\newline\n",
    "&b\\ \\ = b -  \\alpha \\frac{\\partial J(\\mathbf{w},b)}{\\partial b}  \\newline \\rbrace\n",
    "\\end{align*}\n",
    "$$\n",
    "\n",
    "where, n is the number of features, parameters $w_j$,  $b$, are updated simultaneously and where  \n",
    "\n",
    "$$\n",
    "\\begin{align}\n",
    "\\frac{\\partial J(\\mathbf{w},b)}{\\partial w_j}  &= \\frac{1}{m} \\sum\\limits_{i = 0}^{m-1} (f_{\\mathbf{w},b}(\\mathbf{x}^{(i)}) - y^{(i)})x_{j}^{(i)} \\\\\n",
    "\\frac{\\partial J(\\mathbf{w},b)}{\\partial b}  &= \\frac{1}{m} \\sum\\limits_{i = 0}^{m-1} (f_{\\mathbf{w},b}(\\mathbf{x}^{(i)}) - y^{(i)})\n",
    "\\end{align}\n",
    "$$\n",
    "* m is the number of training examples in the data set\n",
    "\n",
    "    \n",
    "*  $f_{\\mathbf{w},b}(\\mathbf{x}^{(i)})$ is the model's prediction, while $y^{(i)}$ is the target value\n"
   ]
  },
  {
   "cell_type": "code",
   "execution_count": null,
   "metadata": {},
   "outputs": [],
   "source": [
    "def compute_gradient(data, y, w, b):\n",
    "    '''\n",
    "    Computes the gradient for linear regression \n",
    "    Args:\n",
    "      X (ndarray (m,n)): Data, m examples with n features\n",
    "      y (ndarray (m,)) : target values\n",
    "      w (ndarray (n,)) : model parameters  \n",
    "      b (scalar)       : model parameter\n",
    "      \n",
    "    Returns:\n",
    "      dj_dw (ndarray (n,)): The gradient of the cost w.r.t. the parameters w. \n",
    "      dj_db (scalar):       The gradient of the cost w.r.t. the parameter b. \n",
    "      \n",
    "    '''\n",
    "    m, n = data.shape # will return (number of rows, number of features)\n",
    "    \n",
    "    #define partial deratives in respect to a weight or base\n",
    "    pj_pw = np.zeros((n,))\n",
    "    pj_pb = 0.0\n",
    "    \n",
    "    #summation\n",
    "    for i in range(m):\n",
    "        # compute the error (linFun - y)\n",
    "        err = (np.dot(w, data[i]) + b) - y[i]\n",
    "        \n",
    "        # compute the new weight partial derative \n",
    "        for j in range(n):\n",
    "            pj_pw[j] =+ err * data[i][j]\n",
    "        \n",
    "        pj_pb =+ err\n",
    "    \n",
    "    return (pj_pw / m), (pj_pb / m)\n",
    "    "
   ]
  },
  {
   "cell_type": "code",
   "execution_count": 12,
   "metadata": {},
   "outputs": [],
   "source": [
    "# assign some inital b and w values\n",
    "\n",
    "b_init = 1\n",
    "w_init = np.array([1,1,1,1,1,1,1])"
   ]
  },
  {
   "cell_type": "code",
   "execution_count": null,
   "metadata": {},
   "outputs": [],
   "source": [
    "def gradient_descent(X, y, w_in, b_in, cost_function, gradient_function, alpha, num_iters): \n",
    "    \"\"\"\n",
    "    Performs batch gradient descent to learn theta. Updates theta by taking \n",
    "    num_iters gradient steps with learning rate alpha\n",
    "    \n",
    "    Args:\n",
    "      X (ndarray (m,n))   : Data, m examples with n features\n",
    "      y (ndarray (m,))    : target values\n",
    "      w_in (ndarray (n,)) : initial model parameters  \n",
    "      b_in (scalar)       : initial model parameter\n",
    "      cost_function       : function to compute cost\n",
    "      gradient_function   : function to compute the gradient\n",
    "      alpha (float)       : Learning rate\n",
    "      num_iters (int)     : number of iterations to run gradient descent\n",
    "      \n",
    "    Returns:\n",
    "      w (ndarray (n,)) : Updated values of parameters \n",
    "      b (scalar)       : Updated value of parameter \n",
    "      \"\"\"\n",
    "    \n",
    "    # An array to store cost J and w's at each iteration primarily for graphing later\n",
    "    J_history = []\n",
    "    \n",
    "    w = copy.deepcopy(w_in)  #avoid modifying global w within function\n",
    "    b = b_in\n",
    "    \n",
    "    for i in range(num_iters):\n",
    "\n",
    "        # Calculate the gradient and update the parameters\n",
    "        dj_db,dj_dw = gradient_function(X, y, w, b)   ##None\n",
    "\n",
    "        # Update Parameters using w, b, alpha and gradient\n",
    "        w = w - alpha * dj_dw               ##None\n",
    "        b = b - alpha * dj_db               ##None\n",
    "      \n",
    "        # Save cost J at each iteration\n",
    "        if i<100000:      # prevent resource exhaustion \n",
    "            J_history.append( cost_function(X, y, w, b))\n",
    "\n",
    "        # Print cost every at intervals 10 times or as many iterations if < 10\n",
    "        if i% math.ceil(num_iters / 10) == 0:\n",
    "            print(f\"Iteration {i:4d}: Cost {J_history[-1]:8.2f}   \")\n",
    "        \n",
    "    return w, b, J_history #return final w,b and J history for graphing"
   ]
  },
  {
   "cell_type": "markdown",
   "metadata": {},
   "source": [
    "Data Scaling with contour plots to show the change (from skinny to more circular)\n",
    "- take the original verision and divide by the maxmium (1)\n",
    "- mean normalization, find the mean then subtract the mean from any value and divide it by the range of possibilities\n",
    "- z-score, use the std.dev and mean of each feature, (value - mean) / std.dev\n",
    "\n",
    "*aim for all feature to range between -1 to 1, or 0<x<3 \n",
    "\n",
    "Look into gradiant decent to mimize cost function (the amount of errors that exist in the model, for linear regression this can be the mean square error) this is limited to only find the local minima, and work on completly differentiable functions (non-peicewise), in linear regression that the function is a convex function\n",
    "\n",
    "Learning rate implications is too small, it will take too long, too large it will overshoot the minima (fail to converge/diverge)\n",
    "\n",
    "batch gradient descent -> each step of gradient descent looks at all training examples instead of a subset\n",
    "\n",
    "https://www.khanacademy.org/math/multivariable-calculus/applications-of-multivariable-derivatives/optimizing-multivariable-functions/a/what-is-gradient-descent#:~:text=Gradient%20descent%20is%20an%20algorithm,like%20we've%20seen%20before.\n",
    "\n",
    "Look into m\n",
    "\n",
    "$$ a \\ne $$\n",
    "\n",
    "- LatEX notation for math\n",
    "\n",
    "\n",
    "talk about vectorization with numpy arrays (dot product) np.dot()\n",
    "\n",
    "//PLOTS\n",
    "\n",
    "- after each iteration of gradiate descent I should plot the values (value vs # of iterations) LEARNING CURVE\n",
    "  - try with a 3x multiplier on the learning rate (alpha)\n",
    "  - try with maybe 200 iterations\n",
    "- automatic convergence test (use a check with an epsilion, very small value 10^-3) after each iteration check if the change is less than the epsilion"
   ]
  }
 ],
 "metadata": {
  "kernelspec": {
   "display_name": "Python 3.9.12 ('base')",
   "language": "python",
   "name": "python3"
  },
  "language_info": {
   "codemirror_mode": {
    "name": "ipython",
    "version": 3
   },
   "file_extension": ".py",
   "mimetype": "text/x-python",
   "name": "python",
   "nbconvert_exporter": "python",
   "pygments_lexer": "ipython3",
   "version": "3.9.12"
  },
  "orig_nbformat": 4,
  "vscode": {
   "interpreter": {
    "hash": "1f6e682205f821ecdce1477ac3157e1a99470272967d45f05981f45230916d50"
   }
  }
 },
 "nbformat": 4,
 "nbformat_minor": 2
}
